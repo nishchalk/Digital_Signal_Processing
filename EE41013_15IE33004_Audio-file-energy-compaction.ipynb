{
 "cells": [
  {
   "cell_type": "code",
   "execution_count": 1,
   "metadata": {},
   "outputs": [
    {
     "data": {
      "text/html": [
       "\n",
       "                <audio controls=\"controls\" >\n",
       "                    <source src=\"data:audio/wav;base64,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\" type=\"audio/wav\" />\n",
       "                    Your browser does not support the audio element.\n",
       "                </audio>\n",
       "              "
      ],
      "text/plain": [
       "<IPython.lib.display.Audio object>"
      ]
     },
     "execution_count": 1,
     "metadata": {},
     "output_type": "execute_result"
    }
   ],
   "source": [
    "import matplotlib.pyplot as plt\n",
    "# from scipy.fftpack import fft, ifft, dct, idct\n",
    "from scipy.io import wavfile # get the api\n",
    "import numpy as np\n",
    "from IPython.display import Audio\n",
    "import math\n",
    "\n",
    "fs, audio = wavfile.read('440_sine.wav')\n",
    "Audio('440_sine.wav')"
   ]
  },
  {
   "cell_type": "code",
   "execution_count": 2,
   "metadata": {},
   "outputs": [
    {
     "name": "stdout",
     "output_type": "stream",
     "text": [
      "Audio Type: int16\n",
      "Samples = 5292   Channels = 2\n",
      "Sampling frequency = 44100 Hz\n",
      "Audio length: 120 mili-seconds\n"
     ]
    }
   ],
   "source": [
    "print(f\"Audio Type: {audio.dtype}\")\n",
    "print(f\"Samples = {audio.shape[0]}   Channels = {audio.shape[1]}\") #output=(samples,channels)\n",
    "print(f\"Sampling frequency = {fs} Hz\")\n",
    "\n",
    "audio = np.mean(audio, axis=1).astype(np.int16) #mean of 2-channel audio or use audio.T[0] to select channel\n",
    "# audio = audio / (2**15)\n",
    "samples = audio.shape[0]\n",
    "L = (samples / fs)*1000\n",
    "print(f'Audio length: {L:.0f} mili-seconds')"
   ]
  },
  {
   "cell_type": "code",
   "execution_count": 3,
   "metadata": {},
   "outputs": [],
   "source": [
    "def dft(x): #calculating dft for x\n",
    "    N = len(x)\n",
    "    D = np.ones((N,N),dtype = complex)\n",
    "    for i in range(1,N):\n",
    "        for k in range(1,N):\n",
    "            D[i][k] = np.exp(-2j*(np.pi*i*k)/N)\n",
    "\n",
    "    y = np.matmul(D,np.transpose(x))\n",
    "    return np.transpose(y)"
   ]
  },
  {
   "cell_type": "code",
   "execution_count": 4,
   "metadata": {},
   "outputs": [],
   "source": [
    "def idft(y): #calculating idft for x\n",
    "    N = len(y)\n",
    "    D = np.ones((N,N),dtype = complex)\n",
    "    for i in range(1,N):\n",
    "        for k in range(1,N):\n",
    "            D[i][k] = np.exp(2j*(np.pi*i*k)/N)\n",
    "\n",
    "    z = np.matmul(D/N,np.transpose(y))\n",
    "    return np.transpose(z)"
   ]
  },
  {
   "cell_type": "code",
   "execution_count": 5,
   "metadata": {},
   "outputs": [],
   "source": [
    "def Edft(x,L): #calculating error dft for x\n",
    "    y = dft(x)\n",
    "    N = len(y)\n",
    "    a = int((N+1-L)/2)\n",
    "    b = int((N-1+L)/2)\n",
    "    for i in range(a,b+1):\n",
    "        y[i] = 0\n",
    "    x_m = idft(y)\n",
    "\n",
    "    return ((x - x_m) ** 2).mean(axis=0)"
   ]
  },
  {
   "cell_type": "code",
   "execution_count": 6,
   "metadata": {},
   "outputs": [],
   "source": [
    "def dct(x): #calculating dct for x\n",
    "    N  = len(x)\n",
    "    Y = np.array([0.]*N)\n",
    "    for k in range(N):\n",
    "        for i in range(N):\n",
    "            Y[k] += 2.0*x[i]*math.cos(math.pi*k*(2.0*i+1)/(2.0*N))\n",
    "    return Y"
   ]
  },
  {
   "cell_type": "code",
   "execution_count": 7,
   "metadata": {},
   "outputs": [],
   "source": [
    "def idct(y): #calculating idct for x\n",
    "    N  = len(y)\n",
    "    Y = np.array([0.]*N)\n",
    "    for i in range(N):\n",
    "        for k in range(N):\n",
    "            if k == 0:\n",
    "                CONST = 0.5\n",
    "            else:\n",
    "                CONST = 1    \n",
    "            Y[i] += CONST*y[k]*math.cos(math.pi*k*(2*i+1)/(2*N))\n",
    "    return Y/N"
   ]
  },
  {
   "cell_type": "code",
   "execution_count": 8,
   "metadata": {},
   "outputs": [],
   "source": [
    "def Edct(x,L): #calculating error dct for x\n",
    "    y = dct(x)\n",
    "    N = len(y)\n",
    "    for i in range(N-L,N):\n",
    "        y[i] = 0\n",
    "    x_m = idct(y)\n",
    "\n",
    "    return ((x - x_m) ** 2).mean(axis=0)"
   ]
  },
  {
   "cell_type": "code",
   "execution_count": 9,
   "metadata": {},
   "outputs": [],
   "source": [
    "h2 = np.array([[1,1],[1,-1]]) #calculating haar transform for x\n",
    "def haar_mat(n):\n",
    "    n = int(n)\n",
    "    if n == 1:\n",
    "        return h2\n",
    "    else:\n",
    "        a = np.kron(haar_mat(n-1),[1,1])\n",
    "        b = np.kron(np.identity(int(math.pow(2,n-1)))*math.pow(2,(n-1)/2.0),[1,-1])\n",
    "        #print(np.concatenate((a,b),axis=0))\n",
    "        return np.concatenate((a,b),axis=0)\n",
    "\n",
    "def haar(x):\n",
    "    return np.matmul(haar_mat(math.log(len(x),2)),np.transpose(x))"
   ]
  },
  {
   "cell_type": "code",
   "execution_count": 10,
   "metadata": {},
   "outputs": [],
   "source": [
    "def ihaar(y): #calculating inverse haar for x\n",
    "    n = int(math.log(len(y),2))\n",
    "    N = len(y)\n",
    "    hn = haar_mat(n)\n",
    "    return np.matmul(np.transpose(hn)/N,np.transpose(y))"
   ]
  },
  {
   "cell_type": "code",
   "execution_count": 11,
   "metadata": {},
   "outputs": [],
   "source": [
    "def Ehaar(x,L): #calculating error for haar transform\n",
    "    y = haar(x)\n",
    "    N = len(y)\n",
    "    for i in range(N-L,N):\n",
    "        y[i] = 0\n",
    "    x_m = ihaar(y)\n",
    "\n",
    "    return ((x - x_m) ** 2).mean(axis=0)"
   ]
  },
  {
   "cell_type": "code",
   "execution_count": null,
   "metadata": {},
   "outputs": [],
   "source": [
    "plt.figure()\n",
    "ydft = [0.]*len(audio)\n",
    "ydct = [0.]*len(audio)\n",
    "yhaar = [0.]*len(audio)\n",
    "for L in range(len(audio)):\n",
    "    ydft[L] = Edft(audio,L)\n",
    "    ydct[L] = Edct(audio,L)\n",
    "    yhaar[L] = Ehaar(audio,L) \n",
    "plt.title('Energy Compaction Plots')\n",
    "plt.plot(range(64),ydft,'--b',label = \"dft\")\n",
    "plt.plot(range(64),ydct,'-r',label = 'dct')\n",
    "plt.plot(range(64),yhaar,'-g',label = 'haar')\n",
    "plt.legend(loc='upper left')    \n",
    "plt.xlabel(\"L\")\n",
    "plt.ylabel(\"E(L)\")\n",
    "plt.show()"
   ]
  },
  {
   "cell_type": "code",
   "execution_count": null,
   "metadata": {},
   "outputs": [],
   "source": []
  }
 ],
 "metadata": {
  "kernelspec": {
   "display_name": "Python 3",
   "language": "python",
   "name": "python3"
  },
  "language_info": {
   "codemirror_mode": {
    "name": "ipython",
    "version": 3
   },
   "file_extension": ".py",
   "mimetype": "text/x-python",
   "name": "python",
   "nbconvert_exporter": "python",
   "pygments_lexer": "ipython3",
   "version": "3.6.5"
  }
 },
 "nbformat": 4,
 "nbformat_minor": 2
}
